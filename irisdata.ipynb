import numpy as np
import pandas as pd
from sklearn.datasets import load_iris
from sklearn.model_selection import train_test_split
from sklearn.neighbors import KNeighborsClassifier
from sklearn.preprocessing import StandardScaler
from sklearn.utils import shuffle
from sklearn.model_selection import train_test_split

iris_data = load_iris()

#standardization of the data
scaler = StandardScaler()
scaler.fit(iris_data['data'])
X = scaler.transform(iris_data['data'])
y = iris_data['target']

#shuffle the data
X, y = shuffle(X, y)

#train, test, and split
X_train, X_test, y_train, y_test = train_test_split(X, y, random_state=0)

#use the KNN Nearest Neighbors Classifier
knn = KNeighborsClassifier(n_neighbors=12)

#train model
knn.fit(X_train, y_train)

#model predicts values for test data
y_pred = knn.predict(X_test)

#accuracy of the model
knn.score(X_test, y_test)
(y_pred == y_test)
np.mean((y_pred == y_test))

#model makes a predictionn with new data
sample_data = np.array([[5,2.9,1,0.2]])
prediction = knn.predict(sample_data)
print(prediction)
print(iris_data['target_names'][prediction])
